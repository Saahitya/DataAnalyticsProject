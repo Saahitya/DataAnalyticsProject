{
 "cells": [
  {
   "cell_type": "code",
   "execution_count": 38,
   "metadata": {},
   "outputs": [],
   "source": [
    "%matplotlib inline\n",
    "import seaborn as sns\n",
    "import numpy as np\n",
    "import matplotlib.pyplot as plt"
   ]
  },
  {
   "cell_type": "code",
   "execution_count": null,
   "metadata": {},
   "outputs": [],
   "source": [
    "import sklearn.neighbors import fet"
   ]
  },
  {
   "cell_type": "code",
   "execution_count": 10,
   "metadata": {},
   "outputs": [
    {
     "name": "stdout",
     "output_type": "stream",
     "text": [
      "CPU times: user 27 µs, sys: 2 µs, total: 29 µs\n",
      "Wall time: 47.7 µs\n"
     ]
    }
   ],
   "source": [
    "import pandas as pd"
   ]
  },
  {
   "cell_type": "code",
   "execution_count": 2,
   "metadata": {},
   "outputs": [],
   "source": [
    "from sklearn.neighbors import KernelDensity"
   ]
  },
  {
   "cell_type": "code",
   "execution_count": null,
   "metadata": {},
   "outputs": [],
   "source": [
    "from matplotlib."
   ]
  },
  {
   "cell_type": "code",
   "execution_count": 16,
   "metadata": {},
   "outputs": [
    {
     "name": "stderr",
     "output_type": "stream",
     "text": [
      "<string>:2: DtypeWarning: Columns (19) have mixed types. Specify dtype option on import or set low_memory=False.\n"
     ]
    },
    {
     "name": "stdout",
     "output_type": "stream",
     "text": [
      "CPU times: user 45 s, sys: 600 ms, total: 45.6 s\n",
      "Wall time: 45.6 s\n"
     ]
    }
   ],
   "source": [
    "%%time\n",
    "data = pd.read_csv(\"data/Accident_Information.csv.bz2\")"
   ]
  },
  {
   "cell_type": "code",
   "execution_count": 31,
   "metadata": {},
   "outputs": [],
   "source": [
    "data = data.dropna(subset=[\"Latitude\", \"Longitude\"])"
   ]
  },
  {
   "cell_type": "code",
   "execution_count": 32,
   "metadata": {},
   "outputs": [
    {
     "data": {
      "text/plain": [
       "0          51.489096\n",
       "1          51.520075\n",
       "2          51.525301\n",
       "3          51.482442\n",
       "4          51.495752\n",
       "5          51.515540\n",
       "6          51.512695\n",
       "7          51.502260\n",
       "8          51.483420\n",
       "9          51.512443\n",
       "10         51.494902\n",
       "11         51.484044\n",
       "12         51.491632\n",
       "13         51.492622\n",
       "14         51.495429\n",
       "15         51.481912\n",
       "16         51.500191\n",
       "17         51.495811\n",
       "18         51.486552\n",
       "19         51.495498\n",
       "20         51.492992\n",
       "21         51.513039\n",
       "22         51.482076\n",
       "23         51.492960\n",
       "24         51.498062\n",
       "25         51.508265\n",
       "26         51.513988\n",
       "27         51.488671\n",
       "28         51.494902\n",
       "29         51.496893\n",
       "             ...    \n",
       "1917244    55.009829\n",
       "1917245    55.239245\n",
       "1917246    55.149137\n",
       "1917247    55.124232\n",
       "1917248    55.010511\n",
       "1917249    55.363587\n",
       "1917250    55.412032\n",
       "1917251    55.104917\n",
       "1917252    55.220218\n",
       "1917253    55.212474\n",
       "1917254    55.145109\n",
       "1917255    55.099980\n",
       "1917256    54.991897\n",
       "1917257    55.009821\n",
       "1917258    55.243971\n",
       "1917259    55.127284\n",
       "1917260    54.989898\n",
       "1917261    55.385499\n",
       "1917262    54.985173\n",
       "1917263    55.336008\n",
       "1917264    54.995005\n",
       "1917265    54.987300\n",
       "1917266    55.385824\n",
       "1917267    54.995041\n",
       "1917268    54.991888\n",
       "1917269    55.058998\n",
       "1917270    55.005033\n",
       "1917271    55.048803\n",
       "1917272    54.989597\n",
       "1917273    55.310151\n",
       "Name: Latitude, Length: 1917128, dtype: float64"
      ]
     },
     "execution_count": 32,
     "metadata": {},
     "output_type": "execute_result"
    }
   ],
   "source": [
    "data.Latitude"
   ]
  },
  {
   "cell_type": "code",
   "execution_count": 37,
   "metadata": {},
   "outputs": [
    {
     "name": "stdout",
     "output_type": "stream",
     "text": [
      "CPU times: user 1.87 s, sys: 7.77 ms, total: 1.87 s\n",
      "Wall time: 1.87 s\n"
     ]
    }
   ],
   "source": [
    "%%time\n",
    "kde = KernelDensity(bandwidth=1.0, kernel='gaussian')\n",
    "kde.fit(data[['Latitude', 'Longitude']])"
   ]
  },
  {
   "cell_type": "code",
   "execution_count": null,
   "metadata": {},
   "outputs": [],
   "source": [
    "help"
   ]
  }
 ],
 "metadata": {
  "kernelspec": {
   "display_name": "Python 3",
   "language": "python",
   "name": "python3"
  },
  "language_info": {
   "codemirror_mode": {
    "name": "ipython",
    "version": 3
   },
   "file_extension": ".py",
   "mimetype": "text/x-python",
   "name": "python",
   "nbconvert_exporter": "python",
   "pygments_lexer": "ipython3",
   "version": "3.6.5"
  }
 },
 "nbformat": 4,
 "nbformat_minor": 2
}
